{
 "cells": [
  {
   "cell_type": "markdown",
   "metadata": {},
   "source": [
    "# Bone Break Classification > 2023-12-07 2:25pm\n",
    "https://universe.roboflow.com/curso-rphcb/bone-break-classification\n",
    "\n",
    "Provided by a Roboflow user\n",
    "License: CC BY 4.0\n",
    "\n",
    "\n",
    "Source: https://www.kaggle.com/datasets/pkdarabi/bone-break-classification-image-dataset/data"
   ]
  }
 ],
 "metadata": {
  "language_info": {
   "name": "python"
  }
 },
 "nbformat": 4,
 "nbformat_minor": 2
}
